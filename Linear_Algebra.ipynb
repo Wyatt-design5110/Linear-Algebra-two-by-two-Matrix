{
  "nbformat": 4,
  "nbformat_minor": 0,
  "metadata": {
    "colab": {
      "provenance": []
    },
    "kernelspec": {
      "name": "python3",
      "display_name": "Python 3"
    },
    "language_info": {
      "name": "python"
    }
  },
  "cells": [
    {
      "cell_type": "code",
      "execution_count": 35,
      "metadata": {
        "colab": {
          "base_uri": "https://localhost:8080/"
        },
        "id": "WvNXPp8QgtY0",
        "outputId": "d8767be2-558e-4184-98f5-e9d724d38698"
      },
      "outputs": [
        {
          "output_type": "stream",
          "name": "stdout",
          "text": [
            "Enter a11: -1\n",
            "Enter a12: 2\n",
            "Enter a21: 0\n",
            "Enter a22: 1\n",
            "Equals:  -1\n"
          ]
        }
      ],
      "source": [
        "def evalMatrix(a11, a12, a21, a22):\n",
        "    return a11 * a22 - a12 * a21\n",
        "\n",
        "def twobytwoMatrix():\n",
        "    a11 = int(input(\"Enter a11: \"))\n",
        "    a12 = int(input(\"Enter a12: \"))\n",
        "    a21 = int(input(\"Enter a21: \"))\n",
        "    a22 = int(input(\"Enter a22: \"))\n",
        "\n",
        "    print(\"Equals: \", evalMatrix(a11, a12, a21, a22))\n",
        "\n",
        "twobytwoMatrix()\n"
      ]
    }
  ]
}